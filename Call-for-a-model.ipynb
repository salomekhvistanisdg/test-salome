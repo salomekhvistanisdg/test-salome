{
  "cells": [
    {
      "cell_type": "code",
      "source": [
        "from google.cloud import storage\n",
        "import joblib\n",
        "import io\n",
        "import pandas as pd\n",
        "from sklearn.preprocessing import LabelEncoder, StandardScaler\n",
        "from sklearn.model_selection import train_test_split\n",
        "from sklearn.metrics import classification_report, accuracy_score\n",
        "from sklearn.linear_model import LogisticRegression"
      ],
      "metadata": {
        "id": "pbZusYlhCe_P",
        "executionInfo": {
          "status": "ok",
          "timestamp": 1724699179514,
          "user_tz": 240,
          "elapsed": 153,
          "user": {
            "displayName": "",
            "userId": ""
          }
        }
      },
      "id": "pbZusYlhCe_P",
      "execution_count": 23,
      "outputs": []
    },
    {
      "cell_type": "code",
      "source": [
        "client = storage.Client()"
      ],
      "metadata": {
        "id": "DaxYEJHfCjyg",
        "executionInfo": {
          "status": "ok",
          "timestamp": 1724698846021,
          "user_tz": 240,
          "elapsed": 182,
          "user": {
            "displayName": "",
            "userId": ""
          }
        }
      },
      "id": "DaxYEJHfCjyg",
      "execution_count": 17,
      "outputs": []
    },
    {
      "cell_type": "code",
      "source": [
        "# specify bucket\n",
        "bucket_name = 'test-bucket-salome'\n",
        "\n",
        "# specify model path\n",
        "model_path = 'logistic_regression_model.pkl'\n",
        "\n",
        "# get the bucket and blob\n",
        "bucket = client.get_bucket(bucket_name)\n",
        "blob = bucket.blob(model_path)\n",
        "blob.download_to_filename('local_model.pkl')"
      ],
      "metadata": {
        "id": "4bp34IRVCnDY",
        "executionInfo": {
          "status": "ok",
          "timestamp": 1724698849179,
          "user_tz": 240,
          "elapsed": 142,
          "user": {
            "displayName": "",
            "userId": ""
          }
        }
      },
      "id": "4bp34IRVCnDY",
      "execution_count": 18,
      "outputs": []
    },
    {
      "cell_type": "code",
      "source": [
        "# load the model\n",
        "model = joblib.load('local_model.pkl')"
      ],
      "metadata": {
        "colab": {
          "base_uri": "https://localhost:8080/"
        },
        "id": "TiP5Wi_YC9bF",
        "executionInfo": {
          "status": "ok",
          "timestamp": 1724699472989,
          "user_tz": 240,
          "elapsed": 168,
          "user": {
            "displayName": "",
            "userId": ""
          }
        },
        "outputId": "922166c4-9a88-42ea-d95b-eda5a3921b49"
      },
      "id": "TiP5Wi_YC9bF",
      "execution_count": 36,
      "outputs": [
        {
          "output_type": "stream",
          "name": "stderr",
          "text": [
            "/usr/local/lib/python3.10/dist-packages/sklearn/base.py:348: InconsistentVersionWarning: Trying to unpickle estimator LogisticRegression from version 1.5.1 when using version 1.3.2. This might lead to breaking code or invalid results. Use at your own risk. For more info please refer to:\n",
            "https://scikit-learn.org/stable/model_persistence.html#security-maintainability-limitations\n",
            "  warnings.warn(\n"
          ]
        }
      ]
    },
    {
      "cell_type": "markdown",
      "source": [
        "Import new data to use the loaded model for predictions"
      ],
      "metadata": {
        "id": "PfWyiqPUFo2P"
      },
      "id": "PfWyiqPUFo2P"
    },
    {
      "cell_type": "code",
      "source": [
        "# specify file name\n",
        "file_name = 'preprocessed_data.csv'\n",
        "\n",
        "# get the bucket and blob\n",
        "blob = bucket.blob(file_name)\n",
        "file_content = blob.download_as_text()\n",
        "file_io = io.StringIO(file_content)\n",
        "\n",
        "# download data into pandas df\n",
        "df = pd.read_csv(file_io)"
      ],
      "metadata": {
        "id": "zhsRarKIC_Hl",
        "executionInfo": {
          "status": "ok",
          "timestamp": 1724699183374,
          "user_tz": 240,
          "elapsed": 169,
          "user": {
            "displayName": "",
            "userId": ""
          }
        }
      },
      "id": "zhsRarKIC_Hl",
      "execution_count": 24,
      "outputs": []
    },
    {
      "cell_type": "markdown",
      "source": [
        "Pre-process data in the same way as the train data"
      ],
      "metadata": {
        "id": "B7JPNXr3Fx9a"
      },
      "id": "B7JPNXr3Fx9a"
    },
    {
      "cell_type": "code",
      "source": [
        "df.head(1)"
      ],
      "metadata": {
        "colab": {
          "base_uri": "https://localhost:8080/",
          "height": 147
        },
        "id": "wVb1CY8UFIaL",
        "executionInfo": {
          "status": "ok",
          "timestamp": 1724699189855,
          "user_tz": 240,
          "elapsed": 179,
          "user": {
            "displayName": "",
            "userId": ""
          }
        },
        "outputId": "2ee6fab8-7628-4b9d-ff03-c2ffe8e3870b"
      },
      "id": "wVb1CY8UFIaL",
      "execution_count": 25,
      "outputs": [
        {
          "output_type": "execute_result",
          "data": {
            "text/plain": [
              "   CustomerID Gender Senior_Citizen Partner Dependents  Tenure_Months  \\\n",
              "0  3668-QPYBK   Male             No      No         No              2   \n",
              "\n",
              "  Phone_Service Multiple_Lines Internet_Service Online_Security  ...  \\\n",
              "0           Yes             No              DSL             Yes  ...   \n",
              "\n",
              "  Device_Protection Tech_Support Streaming_TV Streaming_Movies  \\\n",
              "0                No           No           No               No   \n",
              "\n",
              "         Contract Paperless_Billing Payment_Method Monthly_Charges  \\\n",
              "0  Month-to-month               Yes   Mailed check           53.85   \n",
              "\n",
              "   Total_Charges Churn_Label  \n",
              "0         108.15         Yes  \n",
              "\n",
              "[1 rows x 21 columns]"
            ],
            "text/html": [
              "\n",
              "  <div id=\"df-5040024d-d80b-4654-9b8f-bd8bb003261e\" class=\"colab-df-container\">\n",
              "    <div>\n",
              "<style scoped>\n",
              "    .dataframe tbody tr th:only-of-type {\n",
              "        vertical-align: middle;\n",
              "    }\n",
              "\n",
              "    .dataframe tbody tr th {\n",
              "        vertical-align: top;\n",
              "    }\n",
              "\n",
              "    .dataframe thead th {\n",
              "        text-align: right;\n",
              "    }\n",
              "</style>\n",
              "<table border=\"1\" class=\"dataframe\">\n",
              "  <thead>\n",
              "    <tr style=\"text-align: right;\">\n",
              "      <th></th>\n",
              "      <th>CustomerID</th>\n",
              "      <th>Gender</th>\n",
              "      <th>Senior_Citizen</th>\n",
              "      <th>Partner</th>\n",
              "      <th>Dependents</th>\n",
              "      <th>Tenure_Months</th>\n",
              "      <th>Phone_Service</th>\n",
              "      <th>Multiple_Lines</th>\n",
              "      <th>Internet_Service</th>\n",
              "      <th>Online_Security</th>\n",
              "      <th>...</th>\n",
              "      <th>Device_Protection</th>\n",
              "      <th>Tech_Support</th>\n",
              "      <th>Streaming_TV</th>\n",
              "      <th>Streaming_Movies</th>\n",
              "      <th>Contract</th>\n",
              "      <th>Paperless_Billing</th>\n",
              "      <th>Payment_Method</th>\n",
              "      <th>Monthly_Charges</th>\n",
              "      <th>Total_Charges</th>\n",
              "      <th>Churn_Label</th>\n",
              "    </tr>\n",
              "  </thead>\n",
              "  <tbody>\n",
              "    <tr>\n",
              "      <th>0</th>\n",
              "      <td>3668-QPYBK</td>\n",
              "      <td>Male</td>\n",
              "      <td>No</td>\n",
              "      <td>No</td>\n",
              "      <td>No</td>\n",
              "      <td>2</td>\n",
              "      <td>Yes</td>\n",
              "      <td>No</td>\n",
              "      <td>DSL</td>\n",
              "      <td>Yes</td>\n",
              "      <td>...</td>\n",
              "      <td>No</td>\n",
              "      <td>No</td>\n",
              "      <td>No</td>\n",
              "      <td>No</td>\n",
              "      <td>Month-to-month</td>\n",
              "      <td>Yes</td>\n",
              "      <td>Mailed check</td>\n",
              "      <td>53.85</td>\n",
              "      <td>108.15</td>\n",
              "      <td>Yes</td>\n",
              "    </tr>\n",
              "  </tbody>\n",
              "</table>\n",
              "<p>1 rows × 21 columns</p>\n",
              "</div>\n",
              "    <div class=\"colab-df-buttons\">\n",
              "\n",
              "  <div class=\"colab-df-container\">\n",
              "    <button class=\"colab-df-convert\" onclick=\"convertToInteractive('df-5040024d-d80b-4654-9b8f-bd8bb003261e')\"\n",
              "            title=\"Convert this dataframe to an interactive table.\"\n",
              "            style=\"display:none;\">\n",
              "\n",
              "  <svg xmlns=\"http://www.w3.org/2000/svg\" height=\"24px\" viewBox=\"0 -960 960 960\">\n",
              "    <path d=\"M120-120v-720h720v720H120Zm60-500h600v-160H180v160Zm220 220h160v-160H400v160Zm0 220h160v-160H400v160ZM180-400h160v-160H180v160Zm440 0h160v-160H620v160ZM180-180h160v-160H180v160Zm440 0h160v-160H620v160Z\"/>\n",
              "  </svg>\n",
              "    </button>\n",
              "\n",
              "  <style>\n",
              "    .colab-df-container {\n",
              "      display:flex;\n",
              "      gap: 12px;\n",
              "    }\n",
              "\n",
              "    .colab-df-convert {\n",
              "      background-color: #E8F0FE;\n",
              "      border: none;\n",
              "      border-radius: 50%;\n",
              "      cursor: pointer;\n",
              "      display: none;\n",
              "      fill: #1967D2;\n",
              "      height: 32px;\n",
              "      padding: 0 0 0 0;\n",
              "      width: 32px;\n",
              "    }\n",
              "\n",
              "    .colab-df-convert:hover {\n",
              "      background-color: #E2EBFA;\n",
              "      box-shadow: 0px 1px 2px rgba(60, 64, 67, 0.3), 0px 1px 3px 1px rgba(60, 64, 67, 0.15);\n",
              "      fill: #174EA6;\n",
              "    }\n",
              "\n",
              "    .colab-df-buttons div {\n",
              "      margin-bottom: 4px;\n",
              "    }\n",
              "\n",
              "    [theme=dark] .colab-df-convert {\n",
              "      background-color: #3B4455;\n",
              "      fill: #D2E3FC;\n",
              "    }\n",
              "\n",
              "    [theme=dark] .colab-df-convert:hover {\n",
              "      background-color: #434B5C;\n",
              "      box-shadow: 0px 1px 3px 1px rgba(0, 0, 0, 0.15);\n",
              "      filter: drop-shadow(0px 1px 2px rgba(0, 0, 0, 0.3));\n",
              "      fill: #FFFFFF;\n",
              "    }\n",
              "  </style>\n",
              "\n",
              "    <script>\n",
              "      const buttonEl =\n",
              "        document.querySelector('#df-5040024d-d80b-4654-9b8f-bd8bb003261e button.colab-df-convert');\n",
              "      buttonEl.style.display =\n",
              "        google.colab.kernel.accessAllowed ? 'block' : 'none';\n",
              "\n",
              "      async function convertToInteractive(key) {\n",
              "        const element = document.querySelector('#df-5040024d-d80b-4654-9b8f-bd8bb003261e');\n",
              "        const dataTable =\n",
              "          await google.colab.kernel.invokeFunction('convertToInteractive',\n",
              "                                                    [key], {});\n",
              "        if (!dataTable) return;\n",
              "\n",
              "        const docLinkHtml = 'Like what you see? Visit the ' +\n",
              "          '<a target=\"_blank\" href=https://colab.research.google.com/notebooks/data_table.ipynb>data table notebook</a>'\n",
              "          + ' to learn more about interactive tables.';\n",
              "        element.innerHTML = '';\n",
              "        dataTable['output_type'] = 'display_data';\n",
              "        await google.colab.output.renderOutput(dataTable, element);\n",
              "        const docLink = document.createElement('div');\n",
              "        docLink.innerHTML = docLinkHtml;\n",
              "        element.appendChild(docLink);\n",
              "      }\n",
              "    </script>\n",
              "  </div>\n",
              "\n",
              "    </div>\n",
              "  </div>\n"
            ]
          },
          "metadata": {},
          "execution_count": 25
        }
      ]
    },
    {
      "cell_type": "code",
      "source": [
        "# drop customer ID\n",
        "df = df.drop(columns=['CustomerID'])"
      ],
      "metadata": {
        "id": "FvcP92R7FIhe",
        "executionInfo": {
          "status": "ok",
          "timestamp": 1724699340916,
          "user_tz": 240,
          "elapsed": 165,
          "user": {
            "displayName": "",
            "userId": ""
          }
        }
      },
      "id": "FvcP92R7FIhe",
      "execution_count": 26,
      "outputs": []
    },
    {
      "cell_type": "code",
      "source": [
        "# drop missing values\n",
        "df = df.dropna()"
      ],
      "metadata": {
        "id": "Car9bLaYFIkI",
        "executionInfo": {
          "status": "ok",
          "timestamp": 1724699341919,
          "user_tz": 240,
          "elapsed": 155,
          "user": {
            "displayName": "",
            "userId": ""
          }
        }
      },
      "id": "Car9bLaYFIkI",
      "execution_count": 27,
      "outputs": []
    },
    {
      "cell_type": "code",
      "source": [
        "# encode categorical variables\n",
        "label_encoder = LabelEncoder()\n",
        "for column in df.select_dtypes(include=['object']).columns:\n",
        "  df[column] = label_encoder.fit_transform(df[column])"
      ],
      "metadata": {
        "id": "XXuXrmSEFXt-",
        "executionInfo": {
          "status": "ok",
          "timestamp": 1724699343733,
          "user_tz": 240,
          "elapsed": 150,
          "user": {
            "displayName": "",
            "userId": ""
          }
        }
      },
      "id": "XXuXrmSEFXt-",
      "execution_count": 28,
      "outputs": []
    },
    {
      "cell_type": "code",
      "source": [
        "# data split\n",
        "X = df.drop(columns=['Churn_Label'])\n",
        "y = df['Churn_Label']"
      ],
      "metadata": {
        "id": "aVjVNTXVFZq6",
        "executionInfo": {
          "status": "ok",
          "timestamp": 1724699439863,
          "user_tz": 240,
          "elapsed": 352,
          "user": {
            "displayName": "",
            "userId": ""
          }
        }
      },
      "id": "aVjVNTXVFZq6",
      "execution_count": 33,
      "outputs": []
    },
    {
      "cell_type": "code",
      "source": [
        "# normalize - scaler\n",
        "scaler = StandardScaler()\n",
        "X = pd.DataFrame(scaler.fit_transform(X), columns=X.columns)"
      ],
      "metadata": {
        "id": "GINOta0wFcU2",
        "executionInfo": {
          "status": "ok",
          "timestamp": 1724699444248,
          "user_tz": 240,
          "elapsed": 281,
          "user": {
            "displayName": "",
            "userId": ""
          }
        }
      },
      "id": "GINOta0wFcU2",
      "execution_count": 34,
      "outputs": []
    },
    {
      "cell_type": "code",
      "source": [
        "predictions = model.predict(X)"
      ],
      "metadata": {
        "id": "Wa1h10lqFcY4",
        "executionInfo": {
          "status": "ok",
          "timestamp": 1724699533680,
          "user_tz": 240,
          "elapsed": 174,
          "user": {
            "displayName": "",
            "userId": ""
          }
        }
      },
      "id": "Wa1h10lqFcY4",
      "execution_count": 38,
      "outputs": []
    },
    {
      "cell_type": "code",
      "source": [
        "print(predictions)"
      ],
      "metadata": {
        "colab": {
          "base_uri": "https://localhost:8080/"
        },
        "id": "_fdVfyC0Fe_C",
        "executionInfo": {
          "status": "ok",
          "timestamp": 1724699563084,
          "user_tz": 240,
          "elapsed": 3,
          "user": {
            "displayName": "",
            "userId": ""
          }
        },
        "outputId": "27345dca-c4dc-4666-d998-80e8b5cd1ac4"
      },
      "id": "_fdVfyC0Fe_C",
      "execution_count": 39,
      "outputs": [
        {
          "output_type": "stream",
          "name": "stdout",
          "text": [
            "[0 0 0 ... 0 0 0]\n"
          ]
        }
      ]
    },
    {
      "cell_type": "code",
      "source": [],
      "metadata": {
        "id": "LxJKha4NGqxY"
      },
      "id": "LxJKha4NGqxY",
      "execution_count": null,
      "outputs": []
    }
  ],
  "metadata": {
    "kernelspec": {
      "display_name": "Python 3",
      "language": "python",
      "name": "python3"
    },
    "language_info": {
      "codemirror_mode": {
        "name": "ipython",
        "version": 3
      },
      "file_extension": ".py",
      "mimetype": "text/x-python",
      "name": "python",
      "nbconvert_exporter": "python",
      "pygments_lexer": "ipython3",
      "version": "3.10.10"
    },
    "colab": {
      "provenance": [],
      "name": "Call-for-a-model"
    }
  },
  "nbformat": 4,
  "nbformat_minor": 5
}